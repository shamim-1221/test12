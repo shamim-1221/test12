{
 "cells": [
  {
   "cell_type": "code",
   "execution_count": null,
   "id": "26aea249",
   "metadata": {},
   "outputs": [],
   "source": [
    "#Practical 1 :  Implement Feed-forward Neural Network and train the network with \n",
    "#                different optimizers and compare the results."
   ]
  },
  {
   "cell_type": "code",
   "execution_count": null,
   "id": "7385aada",
   "metadata": {},
   "outputs": [],
   "source": []
  },
  {
   "cell_type": "code",
   "execution_count": null,
   "id": "9e56386b",
   "metadata": {},
   "outputs": [],
   "source": [
    "\n"
   ]
  },
  {
   "cell_type": "code",
   "execution_count": 8,
   "id": "f04223f1",
   "metadata": {},
   "outputs": [
    {
     "name": "stdout",
     "output_type": "stream",
     "text": [
      "Optimizer: sgd\n",
      "Test loss: 0.43731480836868286\n",
      "Test accuracy: 0.9666666388511658\n",
      "Optimizer: adam\n",
      "Test loss: 0.23430313169956207\n",
      "Test accuracy: 0.9666666388511658\n",
      "Optimizer: rmsprop\n",
      "Test loss: 0.14392761886119843\n",
      "Test accuracy: 0.9666666388511658\n"
     ]
    }
   ],
   "source": [
    "import tensorflow as tf\n",
    "import numpy as np\n",
    "\n",
    "from sklearn.datasets import load_iris\n",
    "from sklearn.model_selection import train_test_split\n",
    "from sklearn.preprocessing import LabelBinarizer\n",
    "\n",
    "# Load Iris dataset\n",
    "iris = load_iris() # Loading Iris dataset into a variable.\n",
    "X = iris.data # Features of the dataset.\n",
    "y = iris.target # Class labels of the dataset.\n",
    "\n",
    "# One-hot encode labels\n",
    "lb = LabelBinarizer() # Creating an instance of LabelBinarizer class for one-hot encoding.\n",
    "y = lb.fit_transform(y) # One-hot encoding the class labels.\n",
    "\n",
    "# Split data into train and test sets\n",
    "X_train, X_test, y_train, y_test = train_test_split(X, y, test_size=0.2,random_state=42)\n",
    "\n",
    "# Splitting the dataset into training and testing sets with test size of 20%.\n",
    "# Define model architecture\n",
    "model = tf.keras.Sequential([\n",
    "    # First hidden layer with 16 neurons and input shape of 4 features. ReLU activation function is used.\n",
    "    tf.keras.layers.Dense(16, input_shape=(4,), activation='relu'), \n",
    "     # Second hidden layer with 8 neurons. ReLU activation function is used.\n",
    "    tf.keras.layers.Dense(8, activation='relu'), \n",
    "     # Output layer with 3 neurons for 3 classes. Softmax activation function is used for multiclass␣classification task.\n",
    "    tf.keras.layers.Dense(3, activation='softmax') \n",
    " ])\n",
    "\n",
    "# Compile model with different optimizers\n",
    "optimizers = ['sgd', 'adam', 'rmsprop'] \n",
    "\n",
    "# List of optimizers to be used for training the model.\n",
    "for optimizer in optimizers: # Looping over each optimizer.\n",
    "    # Compiling the model with 'categorical_crossentropy' as the loss function,the current optimizer and accuracy as the metric to be calculated.\n",
    "    model.compile(loss='categorical_crossentropy', optimizer=optimizer,metrics=['accuracy'])\n",
    " \n",
    "    # Train model\n",
    "    history = model.fit(X_train, y_train, validation_data=(X_test, y_test),epochs=50, verbose=0) \n",
    "    # Training the model for 50 epochs with verbose=0 to suppress the output.\n",
    " \n",
    "    # Evaluate model\n",
    "    loss, accuracy = model.evaluate(X_test, y_test, verbose=0) # Evaluating the model on the test set and calculating the loss and accuracy.\n",
    "    print('Optimizer:', optimizer) # Printing the optimizer name.\n",
    "    print('Test loss:', loss) # Printing the loss value on the test set.\n",
    "    print('Test accuracy:', accuracy) # Printing the accuracy value on the test set."
   ]
  },
  {
   "cell_type": "code",
   "execution_count": null,
   "id": "9a4f0da1",
   "metadata": {},
   "outputs": [],
   "source": []
  },
  {
   "cell_type": "code",
   "execution_count": 9,
   "id": "b6dfaed0",
   "metadata": {},
   "outputs": [
    {
     "name": "stdout",
     "output_type": "stream",
     "text": [
      "\n",
      "Input values for the flower attributes:\n",
      "Sepal length (cm): 5\n",
      "Sepal width (cm): 10\n",
      "Petal length (cm): 11\n",
      "Petal width (cm): 6\n",
      "\n",
      "Predicted class:  virginica\n"
     ]
    }
   ],
   "source": [
    "# Allow user to input values for the flower attributes\n",
    "\n",
    "print('\\nInput values for the flower attributes:')\n",
    "sepal_length = float(input('Sepal length (cm): '))\n",
    "sepal_width = float(input('Sepal width (cm): '))\n",
    "petal_length = float(input('Petal length (cm): '))\n",
    "petal_width = float(input('Petal width (cm): '))\n",
    "\n",
    "# Predict class of flower based on input values\n",
    "input_values = np.array([[sepal_length, sepal_width, petal_length,petal_width]])\n",
    "prediction = model.predict(input_values)\n",
    "predicted_class = np.argmax(prediction)\n",
    "class_names = iris.target_names\n",
    "\n",
    "print('\\nPredicted class: ', class_names[predicted_class])\n"
   ]
  },
  {
   "cell_type": "code",
   "execution_count": null,
   "id": "75f30c3b",
   "metadata": {},
   "outputs": [],
   "source": []
  },
  {
   "cell_type": "code",
   "execution_count": 11,
   "id": "8612920c",
   "metadata": {},
   "outputs": [
    {
     "name": "stdout",
     "output_type": "stream",
     "text": [
      "Optimizer: sgd\n",
      "Test loss: 0.14045074582099915\n",
      "Test accuracy: 0.8999999761581421\n",
      "Memory requirement: 0.00 MB\n",
      "Optimizer: adam\n",
      "Test loss: 0.0991814061999321\n",
      "Test accuracy: 0.9666666388511658\n",
      "Memory requirement: 0.00 MB\n",
      "Optimizer: rmsprop\n",
      "Test loss: 0.08316017687320709\n",
      "Test accuracy: 0.9666666388511658\n",
      "Memory requirement: 0.00 MB\n"
     ]
    }
   ],
   "source": [
    "#memory ---------------------------------------------\n",
    "\n",
    "optimizers = {\n",
    " 'sgd': tf.keras.optimizers.SGD(),\n",
    " 'adam': tf.keras.optimizers.Adam(),\n",
    " 'rmsprop': tf.keras.optimizers.RMSprop()\n",
    " }\n",
    "\n",
    "# Compile model with different optimizers\n",
    "for optimizer_name, optimizer in optimizers.items():\n",
    "    model.compile(loss='categorical_crossentropy', optimizer=optimizer, metrics=['accuracy'])\n",
    "    # Train model\n",
    "    history = model.fit(X_train, y_train, validation_data=(X_test, y_test), epochs=50, verbose=0)\n",
    "    # Evaluate model\n",
    "    loss, accuracy = model.evaluate(X_test, y_test, verbose=0)\n",
    "    print('Optimizer:', optimizer_name)\n",
    "    print('Test loss:', loss)\n",
    "    print('Test accuracy:', accuracy)\n",
    " \n",
    "    # Estimate memory requirement\n",
    "    size_in_bytes = model.count_params() * 4 # each parameter is a 32-bit float\n",
    "    size_in_mb = size_in_bytes / (1024 * 1024)\n",
    "    \n",
    "    print(f'Memory requirement: {size_in_mb:.2f} MB')\n"
   ]
  },
  {
   "cell_type": "code",
   "execution_count": null,
   "id": "37fcfe2b",
   "metadata": {},
   "outputs": [],
   "source": []
  },
  {
   "cell_type": "code",
   "execution_count": null,
   "id": "2b88591d",
   "metadata": {},
   "outputs": [],
   "source": []
  }
 ],
 "metadata": {
  "kernelspec": {
   "display_name": "Python 3 (ipykernel)",
   "language": "python",
   "name": "python3"
  },
  "language_info": {
   "codemirror_mode": {
    "name": "ipython",
    "version": 3
   },
   "file_extension": ".py",
   "mimetype": "text/x-python",
   "name": "python",
   "nbconvert_exporter": "python",
   "pygments_lexer": "ipython3",
   "version": "3.9.7"
  },
  "varInspector": {
   "cols": {
    "lenName": 16,
    "lenType": 16,
    "lenVar": 40
   },
   "kernels_config": {
    "python": {
     "delete_cmd_postfix": "",
     "delete_cmd_prefix": "del ",
     "library": "var_list.py",
     "varRefreshCmd": "print(var_dic_list())"
    },
    "r": {
     "delete_cmd_postfix": ") ",
     "delete_cmd_prefix": "rm(",
     "library": "var_list.r",
     "varRefreshCmd": "cat(var_dic_list()) "
    }
   },
   "types_to_exclude": [
    "module",
    "function",
    "builtin_function_or_method",
    "instance",
    "_Feature"
   ],
   "window_display": false
  }
 },
 "nbformat": 4,
 "nbformat_minor": 5
}
