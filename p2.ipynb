{
 "cells": [
  {
   "cell_type": "code",
   "execution_count": null,
   "id": "10c3eef8",
   "metadata": {},
   "outputs": [],
   "source": [
    "#Practical 2\n",
    "#Aim: Program to implement regularization to prevent the model from overfitting."
   ]
  },
  {
   "cell_type": "code",
   "execution_count": null,
   "id": "d5be9211",
   "metadata": {},
   "outputs": [],
   "source": []
  },
  {
   "cell_type": "code",
   "execution_count": 3,
   "id": "b2042914",
   "metadata": {},
   "outputs": [
    {
     "name": "stdout",
     "output_type": "stream",
     "text": [
      "Epoch 1/10\n",
      "469/469 [==============================] - 4s 6ms/step - loss: 1.1115 - accuracy: 0.8825 - val_loss: 0.5953 - val_accuracy: 0.9201\n",
      "Epoch 2/10\n",
      "469/469 [==============================] - 2s 5ms/step - loss: 0.5559 - accuracy: 0.9215 - val_loss: 0.4984 - val_accuracy: 0.9268\n",
      "Epoch 3/10\n",
      "469/469 [==============================] - 2s 5ms/step - loss: 0.4909 - accuracy: 0.9296 - val_loss: 0.4658 - val_accuracy: 0.9377\n",
      "Epoch 4/10\n",
      "469/469 [==============================] - 2s 4ms/step - loss: 0.4508 - accuracy: 0.9363 - val_loss: 0.4203 - val_accuracy: 0.9404\n",
      "Epoch 5/10\n",
      "469/469 [==============================] - 3s 6ms/step - loss: 0.4278 - accuracy: 0.9402 - val_loss: 0.4272 - val_accuracy: 0.9375\n",
      "Epoch 6/10\n",
      "469/469 [==============================] - 3s 7ms/step - loss: 0.4030 - accuracy: 0.9446 - val_loss: 0.3842 - val_accuracy: 0.9462\n",
      "Epoch 7/10\n",
      "469/469 [==============================] - 3s 6ms/step - loss: 0.3854 - accuracy: 0.9474 - val_loss: 0.3637 - val_accuracy: 0.9511\n",
      "Epoch 8/10\n",
      "469/469 [==============================] - 3s 5ms/step - loss: 0.3680 - accuracy: 0.9499 - val_loss: 0.3556 - val_accuracy: 0.9520\n",
      "Epoch 9/10\n",
      "469/469 [==============================] - 3s 6ms/step - loss: 0.3547 - accuracy: 0.9510 - val_loss: 0.3388 - val_accuracy: 0.9533\n",
      "Epoch 10/10\n",
      "469/469 [==============================] - 2s 5ms/step - loss: 0.3444 - accuracy: 0.9523 - val_loss: 0.3399 - val_accuracy: 0.9530\n"
     ]
    }
   ],
   "source": [
    "# Import TensorFlow library\n",
    "import tensorflow as tf \n",
    "\n",
    "# Load the data -->  Load MNIST dataset\n",
    "'''\n",
    "            loads the MNIST dataset using the load_data() function provided by Keras, a high\u0002level API of TensorFlow.\n",
    "            The MNIST dataset contains 70,000 images of handwritten digits that are split into \n",
    "            60,000 training images and 10,000 testing images.\n",
    "'''\n",
    "(train_data, train_labels), (test_data, test_labels) = tf.keras.datasets.mnist.load_data() \n",
    "\n",
    "# Preprocess the data\n",
    "'''\n",
    "            Preprocess the data. The images are first reshaped from a 3D array (28x28 pixels) \n",
    "            to a 2D array (784 pixels).\n",
    "            Then, the pixel values are normalized to be between 0 and 1 by dividing by 255. \n",
    "            The labels are converted to one-hot encoding format using the to_categorical() \n",
    "            function provided by Keras. This is done to make it easier for the model to classify \n",
    "            the images into 10 different classes (one for each digit).\n",
    "'''\n",
    "\n",
    "# Reshape and normalize training data\n",
    "train_data = train_data.reshape((60000, 784)) / 255.0 \n",
    "\n",
    "# Reshape and normalize testing data\n",
    "test_data = test_data.reshape((10000, 784)) / 255.0 \n",
    "\n",
    "# Convert training labels to one-hot encoding\n",
    "train_labels = tf.keras.utils.to_categorical(train_labels) \n",
    "\n",
    "# Convert testing labels to one-hot encoding\n",
    "test_labels = tf.keras.utils.to_categorical(test_labels) \n",
    "\n",
    "# Define the model architecture\n",
    "'''\n",
    "            This code defines the architecture of the neural network model. The Sequential () \n",
    "            function is used to create a sequential model, meaning that the layers are added in \n",
    "            sequence. Three fully connected layers are defined using the Dense () function.\n",
    "            The first layer has 128 units, ReLU activation, and L2 regularization with a \n",
    "            regularization parameter of 0.01.\n",
    "            The second layer has 64 units, ReLU activation, and L2 regularization with a \n",
    "            regularization parameter of 0.01.\n",
    "            The third and final layer has 10 units, softmax activation, and is used for the \n",
    "            classification task.\n",
    "'''\n",
    "    \n",
    "model = tf.keras.models.Sequential([ # Define sequential model\n",
    "        #Add a fully connected layer with 128 units, ReLU activation, and L2 regularization\n",
    "    tf.keras.layers.Dense(128, activation='relu', input_shape=(784,), \n",
    "    kernel_regularizer=tf.keras.regularizers.l2(0.01)),\n",
    "    # Add another fully connected layer with 64 units,ReLU activation, and L2 regularization\n",
    "    tf.keras.layers.Dense(64, activation='relu', kernel_regularizer=tf.keras.regularizers.l2(0.01)), \n",
    "    # Add a final output layer with 10 units (one for each class), softmax activation\n",
    "    tf.keras.layers.Dense(10, activation='softmax') \n",
    " ])\n",
    "\n",
    "# Compile the model\n",
    "\n",
    "'''\n",
    "            This code compiles the model. The compile () function configures the model for \n",
    "            training by specifying the optimizer, loss function, and metrics to monitor during \n",
    "            training. In this case, the Adam optimizer is used with a learning rate of 0.001, \n",
    "            categorical cross-entropy is used as the loss function, and accuracy is monitored \n",
    "            during training.\n",
    "'''\n",
    "\n",
    "model.compile(optimizer=tf.keras.optimizers.Adam(learning_rate=0.001), \n",
    "    # Use Adam optimizer with learning rate 0.001\n",
    "    loss='categorical_crossentropy', \n",
    "    # Use categorical cross-entropy loss function\n",
    "    metrics=['accuracy']) # Monitor accuracy during training\n",
    "\n",
    "# Train the model\n",
    "'''\n",
    "            This code trains the model using the fit () function. The training data and labels \n",
    "            are passed in as arguments, along with the number of epochs to train for, the batch \n",
    "            size to use, and the validation data to use for monitoring model performance during \n",
    "            training. The fit () function returns a history object that contains information \n",
    "            about the training process, such as the loss and accuracy at each epoch. The purpose \n",
    "            of this program is to demonstrate how to implement a neural network model for image \n",
    "            classification using TensorFlow/Keras. The model uses regularization techniques to \n",
    "            prevent overfitting and achieves high accuracy on the MNIST dataset.\n",
    "'''\n",
    "\n",
    "history = model.fit (train_data, train_labels, epochs=10, batch_size=128,\n",
    "# Train the model for 10 epochs, using batches of size 128, and validate on the testing data at the end of each epoch\n",
    "    validation_data= (test_data, test_labels))\n"
   ]
  },
  {
   "cell_type": "code",
   "execution_count": null,
   "id": "8375e10b",
   "metadata": {},
   "outputs": [],
   "source": []
  },
  {
   "cell_type": "code",
   "execution_count": null,
   "id": "1c7e95e5",
   "metadata": {},
   "outputs": [],
   "source": []
  },
  {
   "cell_type": "code",
   "execution_count": null,
   "id": "1b1f4ffe",
   "metadata": {},
   "outputs": [],
   "source": []
  },
  {
   "cell_type": "code",
   "execution_count": null,
   "id": "a0f2ac1f",
   "metadata": {},
   "outputs": [],
   "source": []
  },
  {
   "cell_type": "code",
   "execution_count": null,
   "id": "cf6fc3bf",
   "metadata": {},
   "outputs": [],
   "source": []
  },
  {
   "cell_type": "code",
   "execution_count": null,
   "id": "96017cd5",
   "metadata": {},
   "outputs": [],
   "source": []
  },
  {
   "cell_type": "code",
   "execution_count": null,
   "id": "613ce6ab",
   "metadata": {},
   "outputs": [],
   "source": []
  }
 ],
 "metadata": {
  "kernelspec": {
   "display_name": "Python 3 (ipykernel)",
   "language": "python",
   "name": "python3"
  },
  "language_info": {
   "codemirror_mode": {
    "name": "ipython",
    "version": 3
   },
   "file_extension": ".py",
   "mimetype": "text/x-python",
   "name": "python",
   "nbconvert_exporter": "python",
   "pygments_lexer": "ipython3",
   "version": "3.9.7"
  },
  "varInspector": {
   "cols": {
    "lenName": 16,
    "lenType": 16,
    "lenVar": 40
   },
   "kernels_config": {
    "python": {
     "delete_cmd_postfix": "",
     "delete_cmd_prefix": "del ",
     "library": "var_list.py",
     "varRefreshCmd": "print(var_dic_list())"
    },
    "r": {
     "delete_cmd_postfix": ") ",
     "delete_cmd_prefix": "rm(",
     "library": "var_list.r",
     "varRefreshCmd": "cat(var_dic_list()) "
    }
   },
   "types_to_exclude": [
    "module",
    "function",
    "builtin_function_or_method",
    "instance",
    "_Feature"
   ],
   "window_display": false
  }
 },
 "nbformat": 4,
 "nbformat_minor": 5
}
